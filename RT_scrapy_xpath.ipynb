{
 "cells": [
  {
   "cell_type": "markdown",
   "metadata": {},
   "source": [
    "# Web scraping using scrapy (xpath)"
   ]
  },
  {
   "cell_type": "code",
   "execution_count": 1,
   "metadata": {},
   "outputs": [],
   "source": [
    "#import required libraries\n",
    "from scrapy import Selector\n",
    "import requests\n",
    "import re\n",
    "import pandas as pd"
   ]
  },
  {
   "cell_type": "code",
   "execution_count": 2,
   "metadata": {},
   "outputs": [],
   "source": [
    "#url of web site\n",
    "url=\"https://editorial.rottentomatoes.com/guide/essential-movies-to-watch-now/\""
   ]
  },
  {
   "cell_type": "code",
   "execution_count": 3,
   "metadata": {},
   "outputs": [],
   "source": [
    "#get the content of response\n",
    "r = requests.get(url).content"
   ]
  },
  {
   "cell_type": "code",
   "execution_count": 4,
   "metadata": {},
   "outputs": [],
   "source": [
    "#create selector\n",
    "sel = Selector(text = r)"
   ]
  },
  {
   "cell_type": "markdown",
   "metadata": {},
   "source": [
    "## Extract movie URL"
   ]
  },
  {
   "cell_type": "code",
   "execution_count": 5,
   "metadata": {},
   "outputs": [
    {
     "data": {
      "text/plain": [
       "'<a href=\"https://www.rottentomatoes.com/m/1000013_12_angry_men\">12 Angry Men</a>'"
      ]
     },
     "execution_count": 5,
     "metadata": {},
     "output_type": "execute_result"
    }
   ],
   "source": [
    "#test to extract first movie\n",
    "sel.xpath('//*[@id=\"row-index-1\"]/div[3]/div[1]/div[1]/div/div/h2/a').extract_first()"
   ]
  },
  {
   "cell_type": "code",
   "execution_count": 6,
   "metadata": {},
   "outputs": [
    {
     "name": "stdout",
     "output_type": "stream",
     "text": [
      "https://www.rottentomatoes.com/m/1000013_12_angry_men\n"
     ]
    }
   ],
   "source": [
    "#get first movie url\n",
    "first_movie= sel.xpath('//*[@id=\"row-index-1\"]/div[3]/div[1]/div[1]/div/div/h2/a/@href').extract()[0]\n",
    "\n",
    "print(first_movie)"
   ]
  },
  {
   "cell_type": "markdown",
   "metadata": {},
   "source": [
    "Extract all movies url "
   ]
  },
  {
   "cell_type": "code",
   "execution_count": 7,
   "metadata": {},
   "outputs": [],
   "source": [
    "#get movies url of first page\n",
    "movies_url= sel.xpath('*//div[contains(@id,\"row-index-\")]/div[3]/div[1]/div[1]/div/div/h2/a/@href').extract()"
   ]
  },
  {
   "cell_type": "code",
   "execution_count": 8,
   "metadata": {},
   "outputs": [
    {
     "data": {
      "text/plain": [
       "150"
      ]
     },
     "execution_count": 8,
     "metadata": {},
     "output_type": "execute_result"
    }
   ],
   "source": [
    "#check number of movies\n",
    "len(movies_url)"
   ]
  },
  {
   "cell_type": "code",
   "execution_count": 9,
   "metadata": {},
   "outputs": [
    {
     "data": {
      "text/plain": [
       "['https://www.rottentomatoes.com/m/1000013_12_angry_men',\n",
       " 'https://www.rottentomatoes.com/m/2001_a_space_odyssey',\n",
       " 'https://www.rottentomatoes.com/m/400_blows',\n",
       " 'https://www.rottentomatoes.com/m/adventures_of_priscilla_queen_of_the_desert',\n",
       " 'https://www.rottentomatoes.com/m/1000355-adventures_of_robin_hood',\n",
       " 'https://www.rottentomatoes.com/m/aguirre_the_wrath_of_god',\n",
       " 'https://www.rottentomatoes.com/m/airplane',\n",
       " 'https://www.rottentomatoes.com/m/akira',\n",
       " 'https://www.rottentomatoes.com/m/alien',\n",
       " 'https://www.rottentomatoes.com/m/1000617-aliens',\n",
       " 'https://www.rottentomatoes.com/m/1000626-all_about_eve',\n",
       " 'https://www.rottentomatoes.com/m/all_about_my_mother',\n",
       " 'https://www.rottentomatoes.com/m/all_the_presidents_men',\n",
       " 'https://www.rottentomatoes.com/m/almost_famous',\n",
       " 'https://www.rottentomatoes.com/m/amadeus',\n",
       " 'https://www.rottentomatoes.com/m/amelie',\n",
       " 'https://www.rottentomatoes.com/m/amour_2013',\n",
       " 'https://www.rottentomatoes.com/m/american_in_paris',\n",
       " 'https://www.rottentomatoes.com/m/annie_hall',\n",
       " 'https://www.rottentomatoes.com/m/1001115-apartment',\n",
       " 'https://www.rottentomatoes.com/m/apocalypse_now',\n",
       " 'https://www.rottentomatoes.com/m/avengers_endgame',\n",
       " 'https://www.rottentomatoes.com/m/back_to_the_future',\n",
       " 'https://www.rottentomatoes.com/m/badlands',\n",
       " 'https://www.rottentomatoes.com/m/beauty_and_the_beast_1991',\n",
       " 'https://www.rottentomatoes.com/m/being_john_malkovich',\n",
       " 'https://www.rottentomatoes.com/m/being_there',\n",
       " 'https://www.rottentomatoes.com/m/best_years_of_our_lives',\n",
       " 'https://www.rottentomatoes.com/m/better_luck_tomorrow',\n",
       " 'https://www.rottentomatoes.com/m/bicycle_thieves',\n",
       " 'https://www.rottentomatoes.com/m/the_big_lebowski',\n",
       " 'https://www.rottentomatoes.com/m/the_big_sick',\n",
       " 'https://www.rottentomatoes.com/m/birdman_2014',\n",
       " 'https://www.rottentomatoes.com/m/black_hawk_down',\n",
       " 'https://www.rottentomatoes.com/m/black_orpheus',\n",
       " 'https://www.rottentomatoes.com/m/black_panther_2018',\n",
       " 'https://www.rottentomatoes.com/m/blade_runner',\n",
       " 'https://www.rottentomatoes.com/m/blazing_saddles',\n",
       " 'https://www.rottentomatoes.com/m/boogie_nights',\n",
       " 'https://www.rottentomatoes.com/m/boys_dont_cry',\n",
       " 'https://www.rottentomatoes.com/m/boyz_n_the_hood',\n",
       " 'https://www.rottentomatoes.com/m/breakfast_club',\n",
       " 'https://www.rottentomatoes.com/m/breathless',\n",
       " 'https://www.rottentomatoes.com/m/bridesmaids_2011',\n",
       " 'https://www.rottentomatoes.com/m/bridge_on_the_river_kwai',\n",
       " 'https://www.rottentomatoes.com/m/bridget_jones_diary',\n",
       " 'https://www.rottentomatoes.com/m/broadcast_news',\n",
       " 'https://www.rottentomatoes.com/m/brokeback_mountain',\n",
       " 'https://www.rottentomatoes.com/m/1003318-butch_cassidy_and_the_sundance_kid',\n",
       " 'https://www.rottentomatoes.com/m/cabaret',\n",
       " 'https://www.rottentomatoes.com/m/the_cabinet_of_dr_caligari',\n",
       " 'https://www.rottentomatoes.com/m/call_me_by_your_name',\n",
       " 'https://www.rottentomatoes.com/m/carol',\n",
       " 'https://www.rottentomatoes.com/m/1003707-casablanca',\n",
       " 'https://www.rottentomatoes.com/m/casino_royale',\n",
       " 'https://www.rottentomatoes.com/m/children_of_men',\n",
       " 'https://www.rottentomatoes.com/m/chinatown',\n",
       " 'https://www.rottentomatoes.com/m/city_of_god',\n",
       " 'https://www.rottentomatoes.com/m/cinema_paradiso',\n",
       " 'https://www.rottentomatoes.com/m/citizen_kane',\n",
       " 'https://www.rottentomatoes.com/m/city_lights',\n",
       " 'https://www.rottentomatoes.com/m/clerks',\n",
       " 'https://www.rottentomatoes.com/m/clockwork_orange',\n",
       " 'https://www.rottentomatoes.com/m/clueless',\n",
       " 'https://www.rottentomatoes.com/m/coco_2017',\n",
       " 'https://www.rottentomatoes.com/m/crazy_rich_asians',\n",
       " 'https://www.rottentomatoes.com/m/creed_2015',\n",
       " 'https://www.rottentomatoes.com/m/crouching_tiger_hidden_dragon',\n",
       " 'https://www.rottentomatoes.com/m/the_dark_knight',\n",
       " 'https://www.rottentomatoes.com/m/1005339-dawn_of_the_dead',\n",
       " 'https://www.rottentomatoes.com/m/1005371-day_the_earth_stood_still',\n",
       " 'https://www.rottentomatoes.com/m/dazed_and_confused',\n",
       " 'https://www.rottentomatoes.com/m/dead_poets_society',\n",
       " 'https://www.rottentomatoes.com/m/die_hard',\n",
       " 'https://www.rottentomatoes.com/m/do_the_right_thing',\n",
       " 'https://www.rottentomatoes.com/m/1006037-doctor_zhivago',\n",
       " 'https://www.rottentomatoes.com/m/dog_day_afternoon',\n",
       " 'https://www.rottentomatoes.com/m/dont_look_now',\n",
       " 'https://www.rottentomatoes.com/m/double_indemnity',\n",
       " 'https://www.rottentomatoes.com/m/dr_strangelove',\n",
       " 'https://www.rottentomatoes.com/m/1006234-dracula',\n",
       " 'https://www.rottentomatoes.com/m/drive_2011',\n",
       " 'https://www.rottentomatoes.com/m/legend_of_drunken_master',\n",
       " 'https://www.rottentomatoes.com/m/duck_soup',\n",
       " 'https://www.rottentomatoes.com/m/et_the_extraterrestrial',\n",
       " 'https://www.rottentomatoes.com/m/easy_rider',\n",
       " 'https://www.rottentomatoes.com/m/edward_scissorhands',\n",
       " 'https://www.rottentomatoes.com/m/election',\n",
       " 'https://www.rottentomatoes.com/m/1006527-elephant_man',\n",
       " 'https://www.rottentomatoes.com/m/enter_the_dragon',\n",
       " 'https://www.rottentomatoes.com/m/eternal_sunshine_of_the_spotless_mind',\n",
       " 'https://www.rottentomatoes.com/m/evil_dead_2_dead_by_dawn',\n",
       " 'https://www.rottentomatoes.com/m/exorcist',\n",
       " 'https://www.rottentomatoes.com/m/the_farewell_2019',\n",
       " 'https://www.rottentomatoes.com/m/fargo',\n",
       " 'https://www.rottentomatoes.com/m/fast_five',\n",
       " 'https://www.rottentomatoes.com/m/fast_times_at_ridgemont_high',\n",
       " 'https://www.rottentomatoes.com/m/fight_club',\n",
       " 'https://www.rottentomatoes.com/m/fish_tank',\n",
       " 'https://www.rottentomatoes.com/m/forbidden_planet',\n",
       " 'https://www.rottentomatoes.com/m/four_weddings_and_a_funeral',\n",
       " 'https://www.rottentomatoes.com/m/1007818-frankenstein',\n",
       " 'https://www.rottentomatoes.com/m/french_connection',\n",
       " 'https://www.rottentomatoes.com/m/frida',\n",
       " 'https://www.rottentomatoes.com/m/1008074-gallipoli',\n",
       " 'https://www.rottentomatoes.com/m/gandhi',\n",
       " 'https://www.rottentomatoes.com/m/gattaca',\n",
       " 'https://www.rottentomatoes.com/m/1008166-general',\n",
       " 'https://www.rottentomatoes.com/m/get_out',\n",
       " 'https://www.rottentomatoes.com/m/ghost_in_the_shell',\n",
       " 'https://www.rottentomatoes.com/m/ghostbusters',\n",
       " 'https://www.rottentomatoes.com/m/girls_trip',\n",
       " 'https://www.rottentomatoes.com/m/the_godfather',\n",
       " 'https://www.rottentomatoes.com/m/godfather_part_ii',\n",
       " 'https://www.rottentomatoes.com/m/godzilla_1956',\n",
       " 'https://www.rottentomatoes.com/m/goldfinger',\n",
       " 'https://www.rottentomatoes.com/m/the_good_the_bad_and_the_ugly',\n",
       " 'https://www.rottentomatoes.com/m/1032176-goodfellas',\n",
       " 'https://www.rottentomatoes.com/m/the_grand_budapest_hotel',\n",
       " 'https://www.rottentomatoes.com/m/la_grande_illusion',\n",
       " 'https://www.rottentomatoes.com/m/grapes_of_wrath',\n",
       " 'https://www.rottentomatoes.com/m/grease',\n",
       " 'https://www.rottentomatoes.com/m/the_great_escape',\n",
       " 'https://www.rottentomatoes.com/m/groundhog_day',\n",
       " 'https://www.rottentomatoes.com/m/guardians_of_the_galaxy',\n",
       " 'https://www.rottentomatoes.com/m/1009096-hairspray',\n",
       " 'https://www.rottentomatoes.com/m/1009113-halloween',\n",
       " 'https://www.rottentomatoes.com/m/beatles_a_hard_days_night',\n",
       " 'https://www.rottentomatoes.com/m/harold_and_maude',\n",
       " 'https://www.rottentomatoes.com/m/harry_potter_and_the_prisoner_of_azkaban',\n",
       " 'https://www.rottentomatoes.com/m/the_hate_u_give',\n",
       " 'https://www.rottentomatoes.com/m/heat_1995',\n",
       " 'https://www.rottentomatoes.com/m/heathers',\n",
       " 'https://www.rottentomatoes.com/m/hedwig_and_the_angry_inch',\n",
       " 'https://www.rottentomatoes.com/m/hero',\n",
       " 'https://www.rottentomatoes.com/m/1046060-high_noon',\n",
       " 'https://www.rottentomatoes.com/m/his_girl_friday',\n",
       " 'https://www.rottentomatoes.com/m/the_hunt_2013',\n",
       " 'https://www.rottentomatoes.com/m/ikiru',\n",
       " 'https://www.rottentomatoes.com/m/in_the_heat_of_the_night',\n",
       " 'https://www.rottentomatoes.com/m/in_the_mood_for_love_2001',\n",
       " 'https://www.rottentomatoes.com/m/inception',\n",
       " 'https://www.rottentomatoes.com/m/inglourious_basterds',\n",
       " 'https://www.rottentomatoes.com/m/inside_out_2015',\n",
       " 'https://www.rottentomatoes.com/m/iron_giant',\n",
       " 'https://www.rottentomatoes.com/m/iron_man',\n",
       " 'https://www.rottentomatoes.com/m/it_happened_one_night',\n",
       " 'https://www.rottentomatoes.com/m/its_a_wonderful_life',\n",
       " 'https://www.rottentomatoes.com/m/jaws',\n",
       " 'https://www.rottentomatoes.com/m/john_wick']"
      ]
     },
     "execution_count": 9,
     "metadata": {},
     "output_type": "execute_result"
    }
   ],
   "source": [
    "#show the list\n",
    "movies_url"
   ]
  },
  {
   "cell_type": "markdown",
   "metadata": {},
   "source": [
    "Apply for loop to get all 300 movies"
   ]
  },
  {
   "cell_type": "code",
   "execution_count": 10,
   "metadata": {},
   "outputs": [],
   "source": [
    "pages=[1,2]"
   ]
  },
  {
   "cell_type": "code",
   "execution_count": 11,
   "metadata": {},
   "outputs": [],
   "source": [
    "#get all movies url\n",
    "movie_url_list=[]\n",
    "for page in range(len(pages)):\n",
    "    r=requests.get(url+str(page+1)+'/').content\n",
    "    sel = Selector(text = r)\n",
    "    movie_url= sel.xpath('*//div[contains(@id,\"row-index-\")]/div[3]/div[1]/div[1]/div/div/h2/a/@href').extract()\n",
    "    for movie in movie_url:\n",
    "        movie_url_list.append(movie)"
   ]
  },
  {
   "cell_type": "code",
   "execution_count": 12,
   "metadata": {},
   "outputs": [
    {
     "data": {
      "text/plain": [
       "300"
      ]
     },
     "execution_count": 12,
     "metadata": {},
     "output_type": "execute_result"
    }
   ],
   "source": [
    "#check\n",
    "len(movie_url_list)"
   ]
  },
  {
   "cell_type": "code",
   "execution_count": 13,
   "metadata": {},
   "outputs": [
    {
     "data": {
      "text/plain": [
       "'https://www.rottentomatoes.com/m/1000013_12_angry_men'"
      ]
     },
     "execution_count": 13,
     "metadata": {},
     "output_type": "execute_result"
    }
   ],
   "source": [
    "#check\n",
    "movie_url_list[0]"
   ]
  },
  {
   "cell_type": "markdown",
   "metadata": {},
   "source": [
    "## Test cells to get movie data"
   ]
  },
  {
   "cell_type": "markdown",
   "metadata": {},
   "source": [
    "Watch the steps from [here](https://www.youtube.com/watch?v=NGaLVmLaVnM)"
   ]
  },
  {
   "cell_type": "code",
   "execution_count": null,
   "metadata": {},
   "outputs": [],
   "source": [
    "#we use the cell to do intial test \n",
    "top=[]\n",
    "r = requests.get(movie_url_list[1]).content\n",
    "sel = Selector(text=r)\n",
    "movie_name= sel.xpath('//*[@id=\"topSection\"]/div[1]/score-board/h1/text()').extract()[0]\n",
    "#audience_score = sel.xpath('//*[@id=\"topSection\"]/div[1]/score-board//div/div[2]/div[2]/div/score-icon-audience//div/span[2]').extract()\n",
    "audience_score = sel.xpath('//*[@id=\"topSection\"]/div[1]/score-board/@audiencescore').extract()[0]\n",
    "audience_rating = sel.xpath('//*[@id=\"topSection\"]/div[1]/score-board/a[2]/text()').extract()[0].strip()[:-9].replace(',','')\n",
    "#rt_score = sel.xpath('//*[@id=\"topSection\"]/div[1]/score-board//div/div[2]/div[1]/div/score-icon-critic//div/span[2]')\n",
    "rt_score = sel.xpath('//*[@id=\"topSection\"]/div[1]/score-board/@tomatometerscore').extract()[0]\n",
    "rt_reviwers=sel.xpath('//*[@id=\"topSection\"]/div[1]/score-board/a[1]/text()').extract()[0].strip()[:-8].replace(',','')\n",
    "genre= sel.xpath('//*[@id=\"topSection\"]/div[1]/score-board/p/text()').extract()[0].split(',')[1]\n",
    "release = sel.xpath('//*[@id=\"topSection\"]/div[1]/score-board/p/text()').extract()[0].split(',')[0]\n",
    "duration = sel.xpath('//*[@id=\"topSection\"]/div[1]/score-board/p/text()').extract()[0].split(',')[2]\n",
    "\n",
    "#convert duration from text to minutes\n",
    "time= duration.split()\n",
    "x=1\n",
    "if len(time) == x :\n",
    "    time = int(re.findall(r'\\d+', time[0])[0])*60\n",
    "else:\n",
    "    time=int(re.findall(r'\\d+', time[0])[0])*60 + int (re.findall(r'\\d+', time[1])[0])\n",
    "\n",
    "movie_info=sel.xpath('//*[@id=\"movieSynopsis\"]/text()').extract()[0].strip()\n",
    "#language= sel.xpath('//*[@id=\"mainColumn\"]//section[6]/div/div/ul/li[2]/div[2]/text()').extract()[0].strip()\n",
    "language= sel.xpath('//ul[@class=\"content-meta info\"]/li[2]/div[2]/text()').extract()[0].strip()\n",
    "#director= sel.xpath('//ul[@class=\"content-meta info\"]/li[3]/div[2]/a/text()').extract()[0]\n",
    "director= retrive(sel,'Director:')\n",
    "#producer= sel.xpath('//ul[@class=\"content-meta info\"]/li[4]/div[2]/a//text()').extract()\n",
    "producer= retrive(sel,'Producer:')\n",
    "print(producer)\n",
    "writer=retrive(sel,'Writer:')\n",
    "print(writer)\n",
    "#\n",
    "# if len(producer) > 1:\n",
    "#     producer = producer[0] + ', ' + producer[1]\n",
    "# else:\n",
    "#     producer=producer[0]\n",
    "    \n",
    "# writer= sel.xpath('//ul[@class=\"content-meta info\"]/li[5]/div[2]/a//text()').extract()\n",
    "# if len(writer) > 1:\n",
    "#     writer = writer[0] + ', ' + witer[1]\n",
    "# else:\n",
    "#     writer=writer[0]\n",
    "actor_1 = sel.xpath('//*[@id=\"movie-cast\"]/div/div/div[1]/div[2]/a/span/text()').extract()[0].strip()\n",
    "actor_2 = sel.xpath('//*[@id=\"movie-cast\"]/div/div/div[2]/div[2]/a/span/text()').extract()[0].strip()\n",
    "actor_3 = sel.xpath('//*[@id=\"movie-cast\"]/div/div/div[3]/div[2]/a/span/text()').extract()[0].strip()\n",
    "actor_4 = sel.xpath('//*[@id=\"movie-cast\"]/div/div/div[4]/div[2]/a/span/text()').extract()[0].strip()\n",
    "\n",
    "print(producer)\n",
    "top.append({\n",
    "                     'name': movie_name,\n",
    "                    'critics_score' : int(rt_score),\n",
    "                    'critics_review_numbers' : int(rt_reviwers),\n",
    "                    'audience_score' : int(audience_score),\n",
    "                    'audience_reviews' :(audience_rating),\n",
    "                    'year' : int(release),\n",
    "                    'genre' : genre,\n",
    "                    'duration' : duration,\n",
    "                    'time_in_minutes' : time,\n",
    "                    'movie_page' : movie_url,\n",
    "                    'language': language,\n",
    "                    'director': director,\n",
    "                    'producer':producer,\n",
    "                    'writer': writer,\n",
    "                    'actor_1':actor_1,\n",
    "                    'actor_2': actor_2,\n",
    "                    'actor_3': actor_3,\n",
    "                    'actor_4': actor_4})\n",
    "df=pd.DataFrame(top, columns=['rank','name','critics_score','critics_review_numbers','audience_score', 'audience_reviews','year',\n",
    "                    'genre', 'duration','time_in_minutes', 'movie_page', 'language', 'director','producer', 'writer', 'actor_1',\n",
    "                    'actor_2', 'actor_3', 'actor_4'])\n",
    "df.head()"
   ]
  },
  {
   "cell_type": "code",
   "execution_count": 34,
   "metadata": {},
   "outputs": [
    {
     "data": {
      "text/plain": [
       "[<Selector xpath='//ul[@class=\"content-meta info\"]/li' data='<li class=\"meta-row clearfix\" data-qa...'>,\n",
       " <Selector xpath='//ul[@class=\"content-meta info\"]/li' data='<li class=\"meta-row clearfix\" data-qa...'>,\n",
       " <Selector xpath='//ul[@class=\"content-meta info\"]/li' data='<li class=\"meta-row clearfix\" data-qa...'>,\n",
       " <Selector xpath='//ul[@class=\"content-meta info\"]/li' data='<li class=\"meta-row clearfix\" data-qa...'>,\n",
       " <Selector xpath='//ul[@class=\"content-meta info\"]/li' data='<li class=\"meta-row clearfix\" data-qa...'>,\n",
       " <Selector xpath='//ul[@class=\"content-meta info\"]/li' data='<li class=\"meta-row clearfix\" data-qa...'>,\n",
       " <Selector xpath='//ul[@class=\"content-meta info\"]/li' data='<li class=\"meta-row clearfix\" data-qa...'>,\n",
       " <Selector xpath='//ul[@class=\"content-meta info\"]/li' data='<li class=\"meta-row clearfix\" data-qa...'>,\n",
       " <Selector xpath='//ul[@class=\"content-meta info\"]/li' data='<li class=\"meta-row clearfix\" data-qa...'>,\n",
       " <Selector xpath='//ul[@class=\"content-meta info\"]/li' data='<li class=\"meta-row clearfix\" data-qa...'>,\n",
       " <Selector xpath='//ul[@class=\"content-meta info\"]/li' data='<li class=\"meta-row clearfix\" data-qa...'>,\n",
       " <Selector xpath='//ul[@class=\"content-meta info\"]/li' data='<li class=\"meta-row clearfix\" data-qa...'>,\n",
       " <Selector xpath='//ul[@class=\"content-meta info\"]/li' data='<li class=\"meta-row clearfix\" data-qa...'>]"
      ]
     },
     "execution_count": 34,
     "metadata": {},
     "output_type": "execute_result"
    }
   ],
   "source": [
    "sel.xpath('//ul[@class=\"content-meta info\"]/li')"
   ]
  },
  {
   "cell_type": "code",
   "execution_count": 18,
   "metadata": {},
   "outputs": [
    {
     "data": {
      "text/plain": [
       "'<li class=\"meta-row clearfix\" data-qa=\"movie-info-item\">\\n                    <div class=\"meta-label subtle\" data-qa=\"movie-info-item-label\">Rating:</div>\\n                    <div class=\"meta-value\" data-qa=\"movie-info-item-value\">G\\n                    </div>\\n                </li>'"
      ]
     },
     "execution_count": 18,
     "metadata": {},
     "output_type": "execute_result"
    }
   ],
   "source": [
    "sel.xpath('//ul[@class=\"content-meta info\"]/li')[0].extract()"
   ]
  },
  {
   "cell_type": "code",
   "execution_count": 274,
   "metadata": {},
   "outputs": [],
   "source": [
    "for li in sel.xpath('//ul[@class=\"content-meta info\"]/li'):\n",
    "    if li.xpath('//div[@class=\"meta-label subtle\"]/text()').extract()[0].strip() == \"Rating:\":\n",
    "        rating= li.xpath('//div[@class=\"meta-value\"]/text()').extract()[0].strip()"
   ]
  },
  {
   "cell_type": "code",
   "execution_count": 275,
   "metadata": {},
   "outputs": [
    {
     "name": "stdout",
     "output_type": "stream",
     "text": [
      "R (Language|Brutal Disturbing Images|Strong Violence)\n"
     ]
    }
   ],
   "source": [
    "print(rating)"
   ]
  },
  {
   "cell_type": "code",
   "execution_count": 276,
   "metadata": {},
   "outputs": [
    {
     "data": {
      "text/plain": [
       "['Rating:',\n",
       " 'Genre:',\n",
       " 'Original Language:',\n",
       " 'Director:',\n",
       " 'Producer:',\n",
       " 'Writer:',\n",
       " 'Release Date (Theaters):',\n",
       " 'Release Date (Streaming):',\n",
       " 'Box Office (Gross USA):',\n",
       " 'Runtime:',\n",
       " 'Distributor:',\n",
       " 'Sound Mix:']"
      ]
     },
     "execution_count": 276,
     "metadata": {},
     "output_type": "execute_result"
    }
   ],
   "source": [
    "sel.xpath('//ul[@class=\"content-meta info\"]/li').xpath('div[@class=\"meta-label subtle\"]//text()').extract()"
   ]
  },
  {
   "cell_type": "code",
   "execution_count": 189,
   "metadata": {},
   "outputs": [
    {
     "data": {
      "text/plain": [
       "['\\n                        \\n                            \\n                                ',\n",
       " 'Sidney Lumet',\n",
       " '\\n                            \\n                        \\n                    ']"
      ]
     },
     "execution_count": 189,
     "metadata": {},
     "output_type": "execute_result"
    }
   ],
   "source": [
    "sel.xpath('//ul[@class=\"content-meta info\"]/li')[2].xpath('div[@class=\"meta-value\"]//text()').extract()"
   ]
  },
  {
   "cell_type": "code",
   "execution_count": 190,
   "metadata": {},
   "outputs": [
    {
     "name": "stdout",
     "output_type": "stream",
     "text": [
      "['', 'Sidney Lumet', '']\n"
     ]
    }
   ],
   "source": [
    "print([e.strip().replace('\\n', '') for e in sel.xpath('//ul[@class=\"content-meta info\"]/li')[2].xpath('div[@class=\"meta-value\"]//text()').extract()])\n"
   ]
  },
  {
   "cell_type": "code",
   "execution_count": 203,
   "metadata": {},
   "outputs": [],
   "source": [
    "xx=[e.strip().replace('\\n', '') for e in sel.xpath('//ul[@class=\"content-meta info\"]/li')[5].xpath('div[@class=\"meta-value\"]//text()').extract() if e !=\"\"]\n"
   ]
  },
  {
   "cell_type": "code",
   "execution_count": 204,
   "metadata": {},
   "outputs": [
    {
     "data": {
      "text/plain": [
       "['', 'Arthur C. Clarke', ',', 'Stanley Kubrick', '']"
      ]
     },
     "execution_count": 204,
     "metadata": {},
     "output_type": "execute_result"
    }
   ],
   "source": [
    "xx"
   ]
  },
  {
   "cell_type": "code",
   "execution_count": 205,
   "metadata": {},
   "outputs": [
    {
     "data": {
      "text/plain": [
       "'Arthur C. Clarke, Stanley Kubrick'"
      ]
     },
     "execution_count": 205,
     "metadata": {},
     "output_type": "execute_result"
    }
   ],
   "source": [
    "[e  for e in xx if e not in [\"\", ',']][0] + ', ' + [e  for e in xx if e not in [\"\", ',']][1]"
   ]
  },
  {
   "cell_type": "code",
   "execution_count": 257,
   "metadata": {},
   "outputs": [
    {
     "name": "stdout",
     "output_type": "stream",
     "text": [
      "G\n"
     ]
    }
   ],
   "source": [
    "for sel_elem in sel.xpath('//ul[@class=\"content-meta info\"]/li'):\n",
    "    if sel_elem.xpath('div[@class=\"meta-label subtle\"]//text()').extract()[0] == 'Rating:':\n",
    "       \n",
    "        list_of_text= [e.strip().replace('\\n', '') for e in sel_elem.xpath('div[@class=\"meta-value\"]//text()').extract() if e !=\"\"]\n",
    "        #print(list_of_text)\n",
    "        #print(',' in list_of_text)\n",
    "        if ',' in list_of_text:\n",
    "            value =[e  for e in list_of_text if e not in [\"\", ',']][0] + ', ' + [e  for e in list_of_text if e not in [\"\", ',']][1]\n",
    "            print(value)\n",
    "        else:\n",
    "            value = [e  for e in list_of_text if e not in [\"\", ',']][0]\n",
    "            print(value)"
   ]
  },
  {
   "cell_type": "code",
   "execution_count": 261,
   "metadata": {},
   "outputs": [
    {
     "data": {
      "text/plain": [
       "'Arthur C. Clarke, Stanley Kubrick'"
      ]
     },
     "execution_count": 261,
     "metadata": {},
     "output_type": "execute_result"
    }
   ],
   "source": [
    "#test\n",
    "retrive(sel, 'Writer:')"
   ]
  },
  {
   "cell_type": "markdown",
   "metadata": {},
   "source": [
    "## Don't Repeat Your Self\n",
    "\n",
    "Create function to get below data\n",
    "\n",
    "- Rating\n",
    "- language\n",
    "- director\n",
    "- producer\n",
    "- writer"
   ]
  },
  {
   "cell_type": "code",
   "execution_count": 258,
   "metadata": {},
   "outputs": [],
   "source": [
    "\n",
    "def retrive(sel, key):\n",
    "    \"\"\" function to retive \n",
    "        Rating, Language, Director, Producer and writer\n",
    "        \n",
    "        Paramters:\n",
    "            sel: selector of movie page\n",
    "            key: key to search for needed data\n",
    "            \n",
    "        Returns:\n",
    "            the value of the key\n",
    "    \"\"\"\n",
    "    for sel_elem in sel.xpath('//ul[@class=\"content-meta info\"]/li'):\n",
    "        if sel_elem.xpath('div[@class=\"meta-label subtle\"]//text()').extract()[0] == key:\n",
    "            list_of_text= [e.strip().replace('\\n', '') for e in sel_elem.xpath('div[@class=\"meta-value\"]//text()').extract() if e !=\"\"]\n",
    "            if ',' in list_of_text:\n",
    "                value =[e  for e in list_of_text if e not in [\"\", ',']][0] + ', ' + [e  for e in list_of_text if e not in [\"\", ',']][1]\n",
    "                #print(value)\n",
    "            else:\n",
    "                value = [e  for e in list_of_text if e not in [\"\", ',']][0]\n",
    "                #print(value)\n",
    "            return value"
   ]
  },
  {
   "cell_type": "markdown",
   "metadata": {},
   "source": [
    "## Loop over all pages after solving all problem in test phase\n",
    "- If you face any error get the page that cause error \n",
    "- Start to test why error happened in test cell\n",
    "- Add the needed steps to overcome the error and get needed data below"
   ]
  },
  {
   "cell_type": "code",
   "execution_count": 268,
   "metadata": {},
   "outputs": [
    {
     "data": {
      "text/html": [
       "<div>\n",
       "<style scoped>\n",
       "    .dataframe tbody tr th:only-of-type {\n",
       "        vertical-align: middle;\n",
       "    }\n",
       "\n",
       "    .dataframe tbody tr th {\n",
       "        vertical-align: top;\n",
       "    }\n",
       "\n",
       "    .dataframe thead th {\n",
       "        text-align: right;\n",
       "    }\n",
       "</style>\n",
       "<table border=\"1\" class=\"dataframe\">\n",
       "  <thead>\n",
       "    <tr style=\"text-align: right;\">\n",
       "      <th></th>\n",
       "      <th>rank</th>\n",
       "      <th>name</th>\n",
       "      <th>critics_score</th>\n",
       "      <th>critics_review_numbers</th>\n",
       "      <th>audience_score</th>\n",
       "      <th>audience_reviews</th>\n",
       "      <th>year</th>\n",
       "      <th>genre</th>\n",
       "      <th>duration</th>\n",
       "      <th>time_in_minutes</th>\n",
       "      <th>movie_page</th>\n",
       "      <th>language</th>\n",
       "      <th>producer</th>\n",
       "      <th>writer</th>\n",
       "      <th>actor_1</th>\n",
       "      <th>actor_2</th>\n",
       "      <th>actor_3</th>\n",
       "      <th>actor_4</th>\n",
       "    </tr>\n",
       "  </thead>\n",
       "  <tbody>\n",
       "    <tr>\n",
       "      <th>0</th>\n",
       "      <td>NaN</td>\n",
       "      <td>12 Angry Men</td>\n",
       "      <td>100</td>\n",
       "      <td>60</td>\n",
       "      <td>97</td>\n",
       "      <td>100000</td>\n",
       "      <td>1957</td>\n",
       "      <td>Drama</td>\n",
       "      <td>1h 35m</td>\n",
       "      <td>95</td>\n",
       "      <td>https://www.rottentomatoes.com/m/1000013_12_an...</td>\n",
       "      <td>English</td>\n",
       "      <td>Henry Fonda, Reginald Rose</td>\n",
       "      <td>Reginald Rose</td>\n",
       "      <td>Henry Fonda</td>\n",
       "      <td>Lee J. Cobb</td>\n",
       "      <td>Ed Begley</td>\n",
       "      <td>E.G. Marshall</td>\n",
       "    </tr>\n",
       "    <tr>\n",
       "      <th>1</th>\n",
       "      <td>NaN</td>\n",
       "      <td>2001: A Space Odyssey</td>\n",
       "      <td>91</td>\n",
       "      <td>117</td>\n",
       "      <td>89</td>\n",
       "      <td>250000</td>\n",
       "      <td>1968</td>\n",
       "      <td>Sci-fi</td>\n",
       "      <td>2h 19m</td>\n",
       "      <td>139</td>\n",
       "      <td>https://www.rottentomatoes.com/m/2001_a_space_...</td>\n",
       "      <td>English</td>\n",
       "      <td>Stanley Kubrick</td>\n",
       "      <td>Arthur C. Clarke, Stanley Kubrick</td>\n",
       "      <td>Keir Dullea</td>\n",
       "      <td>Gary Lockwood</td>\n",
       "      <td>William Sylvester</td>\n",
       "      <td>Daniel Richter</td>\n",
       "    </tr>\n",
       "    <tr>\n",
       "      <th>2</th>\n",
       "      <td>NaN</td>\n",
       "      <td>The 400 Blows</td>\n",
       "      <td>99</td>\n",
       "      <td>71</td>\n",
       "      <td>94</td>\n",
       "      <td>25000</td>\n",
       "      <td>1959</td>\n",
       "      <td>Crime/Drama</td>\n",
       "      <td>1h 33m</td>\n",
       "      <td>93</td>\n",
       "      <td>https://www.rottentomatoes.com/m/400_blows</td>\n",
       "      <td>French (France)</td>\n",
       "      <td>François Truffaut</td>\n",
       "      <td>François Truffaut, François Truffaut</td>\n",
       "      <td>Jean-Pierre Léaud</td>\n",
       "      <td>Claire Maurier</td>\n",
       "      <td>Albert Remy</td>\n",
       "      <td>Guy Decomble</td>\n",
       "    </tr>\n",
       "    <tr>\n",
       "      <th>3</th>\n",
       "      <td>NaN</td>\n",
       "      <td>The Adventures of Priscilla, Queen of the Desert</td>\n",
       "      <td>94</td>\n",
       "      <td>48</td>\n",
       "      <td>88</td>\n",
       "      <td>25000</td>\n",
       "      <td>1994</td>\n",
       "      <td>Comedy/Lgbtq+</td>\n",
       "      <td>1h 42m</td>\n",
       "      <td>102</td>\n",
       "      <td>https://www.rottentomatoes.com/m/adventures_of...</td>\n",
       "      <td>English</td>\n",
       "      <td>Al Clark, Michael Hamlyn</td>\n",
       "      <td>Stephan Elliott</td>\n",
       "      <td>Terence Stamp</td>\n",
       "      <td>Hugo Weaving</td>\n",
       "      <td>Guy Pearce</td>\n",
       "      <td>Bill Hunter</td>\n",
       "    </tr>\n",
       "    <tr>\n",
       "      <th>4</th>\n",
       "      <td>NaN</td>\n",
       "      <td>The Adventures of Robin Hood</td>\n",
       "      <td>100</td>\n",
       "      <td>50</td>\n",
       "      <td>89</td>\n",
       "      <td>25000</td>\n",
       "      <td>1938</td>\n",
       "      <td>Adventure/Action</td>\n",
       "      <td>1h 42m</td>\n",
       "      <td>102</td>\n",
       "      <td>https://www.rottentomatoes.com/m/1000355-adven...</td>\n",
       "      <td>English</td>\n",
       "      <td>Hal B. Wallis</td>\n",
       "      <td>Norman Reilly Raine, Seton I. Miller</td>\n",
       "      <td>Errol Flynn</td>\n",
       "      <td>Olivia de Havilland</td>\n",
       "      <td>Basil Rathbone</td>\n",
       "      <td>Claude Rains</td>\n",
       "    </tr>\n",
       "  </tbody>\n",
       "</table>\n",
       "</div>"
      ],
      "text/plain": [
       "   rank                                              name  critics_score  \\\n",
       "0   NaN                                      12 Angry Men            100   \n",
       "1   NaN                             2001: A Space Odyssey             91   \n",
       "2   NaN                                     The 400 Blows             99   \n",
       "3   NaN  The Adventures of Priscilla, Queen of the Desert             94   \n",
       "4   NaN                      The Adventures of Robin Hood            100   \n",
       "\n",
       "   critics_review_numbers  audience_score audience_reviews  year  \\\n",
       "0                      60              97           100000  1957   \n",
       "1                     117              89           250000  1968   \n",
       "2                      71              94            25000  1959   \n",
       "3                      48              88            25000  1994   \n",
       "4                      50              89            25000  1938   \n",
       "\n",
       "               genre duration  time_in_minutes  \\\n",
       "0              Drama   1h 35m               95   \n",
       "1             Sci-fi   2h 19m              139   \n",
       "2        Crime/Drama   1h 33m               93   \n",
       "3      Comedy/Lgbtq+   1h 42m              102   \n",
       "4   Adventure/Action   1h 42m              102   \n",
       "\n",
       "                                          movie_page         language  \\\n",
       "0  https://www.rottentomatoes.com/m/1000013_12_an...          English   \n",
       "1  https://www.rottentomatoes.com/m/2001_a_space_...          English   \n",
       "2         https://www.rottentomatoes.com/m/400_blows  French (France)   \n",
       "3  https://www.rottentomatoes.com/m/adventures_of...          English   \n",
       "4  https://www.rottentomatoes.com/m/1000355-adven...          English   \n",
       "\n",
       "                     producer                                writer  \\\n",
       "0  Henry Fonda, Reginald Rose                         Reginald Rose   \n",
       "1             Stanley Kubrick     Arthur C. Clarke, Stanley Kubrick   \n",
       "2           François Truffaut  François Truffaut, François Truffaut   \n",
       "3    Al Clark, Michael Hamlyn                       Stephan Elliott   \n",
       "4               Hal B. Wallis  Norman Reilly Raine, Seton I. Miller   \n",
       "\n",
       "             actor_1              actor_2            actor_3         actor_4  \n",
       "0        Henry Fonda          Lee J. Cobb          Ed Begley   E.G. Marshall  \n",
       "1        Keir Dullea        Gary Lockwood  William Sylvester  Daniel Richter  \n",
       "2  Jean-Pierre Léaud       Claire Maurier        Albert Remy    Guy Decomble  \n",
       "3      Terence Stamp         Hugo Weaving         Guy Pearce     Bill Hunter  \n",
       "4        Errol Flynn  Olivia de Havilland     Basil Rathbone    Claude Rains  "
      ]
     },
     "execution_count": 268,
     "metadata": {},
     "output_type": "execute_result"
    }
   ],
   "source": [
    "top_300=[]\n",
    "for movie_url in movie_url_list:\n",
    "    r = requests.get(movie_url).content\n",
    "    sel = Selector(text=r)\n",
    "    movie_name= sel.xpath('//*[@id=\"topSection\"]/div[1]/score-board/h1/text()').extract()[0]\n",
    "    #audience_score = sel.xpath('//*[@id=\"topSection\"]/div[1]/score-board//div/div[2]/div[2]/div/score-icon-audience//div/span[2]').extract()\n",
    "    audience_score = sel.xpath('//*[@id=\"topSection\"]/div[1]/score-board/@audiencescore').extract()[0]\n",
    "    audience_rating = sel.xpath('//*[@id=\"topSection\"]/div[1]/score-board/a[2]/text()').extract()[0].strip()[:-9].replace(',','')\n",
    "    #rt_score = sel.xpath('//*[@id=\"topSection\"]/div[1]/score-board//div/div[2]/div[1]/div/score-icon-critic//div/span[2]')\n",
    "    rt_score = sel.xpath('//*[@id=\"topSection\"]/div[1]/score-board/@tomatometerscore').extract()[0]\n",
    "    rt_reviwers=sel.xpath('//*[@id=\"topSection\"]/div[1]/score-board/a[1]/text()').extract()[0].strip()[:-8].replace(',','')\n",
    "    genre= sel.xpath('//*[@id=\"topSection\"]/div[1]/score-board/p/text()').extract()[0].split(',')[1]\n",
    "    release = sel.xpath('//*[@id=\"topSection\"]/div[1]/score-board/p/text()').extract()[0].split(',')[0]\n",
    "    duration = sel.xpath('//*[@id=\"topSection\"]/div[1]/score-board/p/text()').extract()[0].split(',')[2]\n",
    "\n",
    "    #convert duration from text to minutes\n",
    "    time= duration.split()\n",
    "    x=1\n",
    "    if len(time) == x :\n",
    "        time = int(re.findall(r'\\d+', time[0])[0])*60\n",
    "    else:\n",
    "        time=int(re.findall(r'\\d+', time[0])[0])*60 + int (re.findall(r'\\d+', time[1])[0])\n",
    "\n",
    "    movie_info=sel.xpath('//*[@id=\"movieSynopsis\"]/text()').extract()[0].strip()\n",
    "    #language= sel.xpath('//*[@id=\"mainColumn\"]//section[6]/div/div/ul/li[2]/div[2]/text()').extract()[0].strip()\n",
    "    #language= sel.xpath('//ul[@class=\"content-meta info\"]/li[2]/div[2]/text()').extract()[0].strip()\n",
    "    \n",
    "    Rating= retrive(sel, 'Rating:')\n",
    "    language = retrive(sel, 'Original Language:')\n",
    "    director= retrive(sel,'Director:')\n",
    "    producer= retrive(sel,'Producer:')\n",
    "    writer=retrive(sel,'Writer:')\n",
    "    \n",
    "    actor_1 = sel.xpath('//*[@id=\"movie-cast\"]/div/div/div[1]/div[2]/a/span/text()').extract()[0].strip()\n",
    "    actor_2 = sel.xpath('//*[@id=\"movie-cast\"]/div/div/div[2]/div[2]/a/span/text()').extract()[0].strip()\n",
    "    actor_3 = sel.xpath('//*[@id=\"movie-cast\"]/div/div/div[3]/div[2]/a/span/text()').extract()[0].strip()\n",
    "    actor_4 = sel.xpath('//*[@id=\"movie-cast\"]/div/div/div[4]/div[2]/a/span/text()').extract()[0].strip()\n",
    "    top_300.append({\n",
    "                     'name': movie_name,\n",
    "                    'critics_score' : int(rt_score),\n",
    "                    'critics_review_numbers' : int(rt_reviwers),\n",
    "                    'audience_score' : int(audience_score),\n",
    "                    'audience_reviews' :(audience_rating),\n",
    "                    'year' : int(release),\n",
    "                    'genre' : genre,\n",
    "                    'duration' : duration,\n",
    "                    'time_in_minutes' : time,\n",
    "                    'movie_page' : movie_url,\n",
    "                    'language': language,\n",
    "                    'producer':producer,\n",
    "                    'writer': writer,\n",
    "                    'actor_1':actor_1,\n",
    "                    'actor_2': actor_2,\n",
    "                    'actor_3': actor_3,\n",
    "                    'actor_4': actor_4})\n",
    "df=pd.DataFrame(top_300, columns=['name','critics_score','critics_review_numbers','audience_score', 'audience_reviews','year',\n",
    "                    'genre', 'duration','time_in_minutes', 'movie_page', 'language', 'producer', 'writer', 'actor_1',\n",
    "                    'actor_2', 'actor_3', 'actor_4'])\n",
    "df.head()"
   ]
  },
  {
   "cell_type": "code",
   "execution_count": 271,
   "metadata": {},
   "outputs": [
    {
     "data": {
      "text/html": [
       "<div>\n",
       "<style scoped>\n",
       "    .dataframe tbody tr th:only-of-type {\n",
       "        vertical-align: middle;\n",
       "    }\n",
       "\n",
       "    .dataframe tbody tr th {\n",
       "        vertical-align: top;\n",
       "    }\n",
       "\n",
       "    .dataframe thead th {\n",
       "        text-align: right;\n",
       "    }\n",
       "</style>\n",
       "<table border=\"1\" class=\"dataframe\">\n",
       "  <thead>\n",
       "    <tr style=\"text-align: right;\">\n",
       "      <th></th>\n",
       "      <th>rank</th>\n",
       "      <th>name</th>\n",
       "      <th>critics_score</th>\n",
       "      <th>critics_review_numbers</th>\n",
       "      <th>audience_score</th>\n",
       "      <th>audience_reviews</th>\n",
       "      <th>year</th>\n",
       "      <th>genre</th>\n",
       "      <th>duration</th>\n",
       "      <th>time_in_minutes</th>\n",
       "      <th>movie_page</th>\n",
       "      <th>language</th>\n",
       "      <th>producer</th>\n",
       "      <th>writer</th>\n",
       "      <th>actor_1</th>\n",
       "      <th>actor_2</th>\n",
       "      <th>actor_3</th>\n",
       "      <th>actor_4</th>\n",
       "    </tr>\n",
       "  </thead>\n",
       "  <tbody>\n",
       "    <tr>\n",
       "      <th>290</th>\n",
       "      <td>NaN</td>\n",
       "      <td>Wendy and Lucy</td>\n",
       "      <td>86</td>\n",
       "      <td>187</td>\n",
       "      <td>67</td>\n",
       "      <td>10000</td>\n",
       "      <td>2008</td>\n",
       "      <td>Drama</td>\n",
       "      <td>1h 20m</td>\n",
       "      <td>80</td>\n",
       "      <td>https://www.rottentomatoes.com/m/wendy_and_lucy</td>\n",
       "      <td>English</td>\n",
       "      <td>None</td>\n",
       "      <td>Jonathan Raymond, Jonathan Raymond</td>\n",
       "      <td>Michelle Williams</td>\n",
       "      <td>Will Patton</td>\n",
       "      <td>Will Oldham</td>\n",
       "      <td>John Robinson</td>\n",
       "    </tr>\n",
       "    <tr>\n",
       "      <th>291</th>\n",
       "      <td>NaN</td>\n",
       "      <td>West Side Story</td>\n",
       "      <td>92</td>\n",
       "      <td>115</td>\n",
       "      <td>84</td>\n",
       "      <td>100000</td>\n",
       "      <td>1961</td>\n",
       "      <td>Musical</td>\n",
       "      <td>2h 31m</td>\n",
       "      <td>151</td>\n",
       "      <td>https://www.rottentomatoes.com/m/west_side_story</td>\n",
       "      <td>English</td>\n",
       "      <td>Robert Wise</td>\n",
       "      <td>Jerome Robbins, Arthur Laurents</td>\n",
       "      <td>Natalie Wood</td>\n",
       "      <td>Richard Beymer</td>\n",
       "      <td>Russ Tamblyn</td>\n",
       "      <td>George Chakiris</td>\n",
       "    </tr>\n",
       "    <tr>\n",
       "      <th>292</th>\n",
       "      <td>NaN</td>\n",
       "      <td>What's Love Got to Do With It</td>\n",
       "      <td>96</td>\n",
       "      <td>57</td>\n",
       "      <td>88</td>\n",
       "      <td>50000</td>\n",
       "      <td>1993</td>\n",
       "      <td>Biography</td>\n",
       "      <td>1h 58m</td>\n",
       "      <td>118</td>\n",
       "      <td>https://www.rottentomatoes.com/m/whats_love_go...</td>\n",
       "      <td>English</td>\n",
       "      <td>Doug Chapin, Barry Krost</td>\n",
       "      <td>Tina Turner, Kurt Loder</td>\n",
       "      <td>Angela Bassett</td>\n",
       "      <td>Laurence Fishburne</td>\n",
       "      <td>Vanessa Bell Calloway</td>\n",
       "      <td>Jenifer Lewis</td>\n",
       "    </tr>\n",
       "    <tr>\n",
       "      <th>293</th>\n",
       "      <td>NaN</td>\n",
       "      <td>The Wild Bunch</td>\n",
       "      <td>91</td>\n",
       "      <td>65</td>\n",
       "      <td>90</td>\n",
       "      <td>25000</td>\n",
       "      <td>1969</td>\n",
       "      <td>Western</td>\n",
       "      <td>2h 22m</td>\n",
       "      <td>142</td>\n",
       "      <td>https://www.rottentomatoes.com/m/1059489-wild_...</td>\n",
       "      <td>English</td>\n",
       "      <td>Phil Feldman</td>\n",
       "      <td>Walon Green, Roy N. Sickner</td>\n",
       "      <td>William Holden</td>\n",
       "      <td>Ernest Borgnine</td>\n",
       "      <td>Robert Ryan</td>\n",
       "      <td>Edmond O'Brien</td>\n",
       "    </tr>\n",
       "    <tr>\n",
       "      <th>294</th>\n",
       "      <td>NaN</td>\n",
       "      <td>Wild Strawberries</td>\n",
       "      <td>94</td>\n",
       "      <td>48</td>\n",
       "      <td>94</td>\n",
       "      <td>10000</td>\n",
       "      <td>1957</td>\n",
       "      <td>Drama</td>\n",
       "      <td>1h 30m</td>\n",
       "      <td>90</td>\n",
       "      <td>https://www.rottentomatoes.com/m/wild_strawber...</td>\n",
       "      <td>Swedish</td>\n",
       "      <td>Allan Ekelund</td>\n",
       "      <td>Ingmar Bergman</td>\n",
       "      <td>Victor Sjöström</td>\n",
       "      <td>Ingrid Thulin</td>\n",
       "      <td>Bibi Andersson</td>\n",
       "      <td>Gunnar Björnstrand</td>\n",
       "    </tr>\n",
       "    <tr>\n",
       "      <th>295</th>\n",
       "      <td>NaN</td>\n",
       "      <td>The Wizard of Oz</td>\n",
       "      <td>98</td>\n",
       "      <td>166</td>\n",
       "      <td>89</td>\n",
       "      <td>250000</td>\n",
       "      <td>1939</td>\n",
       "      <td>Kids &amp; family/Fantasy</td>\n",
       "      <td>1h 41m</td>\n",
       "      <td>101</td>\n",
       "      <td>https://www.rottentomatoes.com/m/the_wizard_of...</td>\n",
       "      <td>English</td>\n",
       "      <td>Victor Fleming, Mervyn LeRoy</td>\n",
       "      <td>L. Frank Baum, Noel Langley</td>\n",
       "      <td>Judy Garland</td>\n",
       "      <td>Frank Morgan</td>\n",
       "      <td>Ray Bolger</td>\n",
       "      <td>Bert Lahr</td>\n",
       "    </tr>\n",
       "    <tr>\n",
       "      <th>296</th>\n",
       "      <td>NaN</td>\n",
       "      <td>Wonder Woman</td>\n",
       "      <td>93</td>\n",
       "      <td>479</td>\n",
       "      <td>83</td>\n",
       "      <td>100000</td>\n",
       "      <td>2017</td>\n",
       "      <td>Action/Adventure</td>\n",
       "      <td>2h 21m</td>\n",
       "      <td>141</td>\n",
       "      <td>https://www.rottentomatoes.com/m/wonder_woman_...</td>\n",
       "      <td>English</td>\n",
       "      <td>Charles Roven, Deborah Snyder</td>\n",
       "      <td>Allan Heinberg</td>\n",
       "      <td>Gal Gadot</td>\n",
       "      <td>Chris Pine</td>\n",
       "      <td>Connie Nielsen</td>\n",
       "      <td>Robin Wright</td>\n",
       "    </tr>\n",
       "    <tr>\n",
       "      <th>297</th>\n",
       "      <td>NaN</td>\n",
       "      <td>Y tu mamá también</td>\n",
       "      <td>92</td>\n",
       "      <td>138</td>\n",
       "      <td>88</td>\n",
       "      <td>50000</td>\n",
       "      <td>2001</td>\n",
       "      <td>Comedy/Drama</td>\n",
       "      <td>1h 45m</td>\n",
       "      <td>105</td>\n",
       "      <td>https://www.rottentomatoes.com/m/y_tu_mama_tam...</td>\n",
       "      <td>Spanish</td>\n",
       "      <td>Alfonso Cuarón, Jorge Vergara</td>\n",
       "      <td>Alfonso Cuarón, Carlos Cuarón</td>\n",
       "      <td>Maribel Verdú</td>\n",
       "      <td>Gael García Bernal</td>\n",
       "      <td>Diego Luna</td>\n",
       "      <td>Diana Bracho</td>\n",
       "    </tr>\n",
       "    <tr>\n",
       "      <th>298</th>\n",
       "      <td>NaN</td>\n",
       "      <td>Your Sister's Sister</td>\n",
       "      <td>83</td>\n",
       "      <td>145</td>\n",
       "      <td>66</td>\n",
       "      <td>10000</td>\n",
       "      <td>2011</td>\n",
       "      <td>Comedy/Drama</td>\n",
       "      <td>1h 30m</td>\n",
       "      <td>90</td>\n",
       "      <td>https://www.rottentomatoes.com/m/your_sisters_...</td>\n",
       "      <td>English</td>\n",
       "      <td>Steven Schardt</td>\n",
       "      <td>Lynn Shelton</td>\n",
       "      <td>Emily Blunt</td>\n",
       "      <td>Rosemarie DeWitt</td>\n",
       "      <td>Mark Duplass</td>\n",
       "      <td>Mike Birbiglia</td>\n",
       "    </tr>\n",
       "    <tr>\n",
       "      <th>299</th>\n",
       "      <td>NaN</td>\n",
       "      <td>Zero Dark Thirty</td>\n",
       "      <td>91</td>\n",
       "      <td>309</td>\n",
       "      <td>80</td>\n",
       "      <td>100000</td>\n",
       "      <td>2012</td>\n",
       "      <td>Drama/Mystery &amp; thriller</td>\n",
       "      <td>2h 37m</td>\n",
       "      <td>157</td>\n",
       "      <td>https://www.rottentomatoes.com/m/zero_dark_thirty</td>\n",
       "      <td>English</td>\n",
       "      <td>Mark Boal, Kathryn Bigelow</td>\n",
       "      <td>Mark Boal</td>\n",
       "      <td>Jessica Chastain</td>\n",
       "      <td>Jason Clarke</td>\n",
       "      <td>Joel Edgerton</td>\n",
       "      <td>Jennifer Ehle</td>\n",
       "    </tr>\n",
       "  </tbody>\n",
       "</table>\n",
       "</div>"
      ],
      "text/plain": [
       "     rank                           name  critics_score  \\\n",
       "290   NaN                 Wendy and Lucy             86   \n",
       "291   NaN                West Side Story             92   \n",
       "292   NaN  What's Love Got to Do With It             96   \n",
       "293   NaN                 The Wild Bunch             91   \n",
       "294   NaN              Wild Strawberries             94   \n",
       "295   NaN               The Wizard of Oz             98   \n",
       "296   NaN                   Wonder Woman             93   \n",
       "297   NaN              Y tu mamá también             92   \n",
       "298   NaN           Your Sister's Sister             83   \n",
       "299   NaN               Zero Dark Thirty             91   \n",
       "\n",
       "     critics_review_numbers  audience_score audience_reviews  year  \\\n",
       "290                     187              67            10000  2008   \n",
       "291                     115              84           100000  1961   \n",
       "292                      57              88            50000  1993   \n",
       "293                      65              90            25000  1969   \n",
       "294                      48              94            10000  1957   \n",
       "295                     166              89           250000  1939   \n",
       "296                     479              83           100000  2017   \n",
       "297                     138              88            50000  2001   \n",
       "298                     145              66            10000  2011   \n",
       "299                     309              80           100000  2012   \n",
       "\n",
       "                         genre duration  time_in_minutes  \\\n",
       "290                      Drama   1h 20m               80   \n",
       "291                    Musical   2h 31m              151   \n",
       "292                  Biography   1h 58m              118   \n",
       "293                    Western   2h 22m              142   \n",
       "294                      Drama   1h 30m               90   \n",
       "295      Kids & family/Fantasy   1h 41m              101   \n",
       "296           Action/Adventure   2h 21m              141   \n",
       "297               Comedy/Drama   1h 45m              105   \n",
       "298               Comedy/Drama   1h 30m               90   \n",
       "299   Drama/Mystery & thriller   2h 37m              157   \n",
       "\n",
       "                                            movie_page language  \\\n",
       "290    https://www.rottentomatoes.com/m/wendy_and_lucy  English   \n",
       "291   https://www.rottentomatoes.com/m/west_side_story  English   \n",
       "292  https://www.rottentomatoes.com/m/whats_love_go...  English   \n",
       "293  https://www.rottentomatoes.com/m/1059489-wild_...  English   \n",
       "294  https://www.rottentomatoes.com/m/wild_strawber...  Swedish   \n",
       "295  https://www.rottentomatoes.com/m/the_wizard_of...  English   \n",
       "296  https://www.rottentomatoes.com/m/wonder_woman_...  English   \n",
       "297  https://www.rottentomatoes.com/m/y_tu_mama_tam...  Spanish   \n",
       "298  https://www.rottentomatoes.com/m/your_sisters_...  English   \n",
       "299  https://www.rottentomatoes.com/m/zero_dark_thirty  English   \n",
       "\n",
       "                          producer                              writer  \\\n",
       "290                           None  Jonathan Raymond, Jonathan Raymond   \n",
       "291                    Robert Wise     Jerome Robbins, Arthur Laurents   \n",
       "292       Doug Chapin, Barry Krost             Tina Turner, Kurt Loder   \n",
       "293                   Phil Feldman         Walon Green, Roy N. Sickner   \n",
       "294                  Allan Ekelund                      Ingmar Bergman   \n",
       "295   Victor Fleming, Mervyn LeRoy         L. Frank Baum, Noel Langley   \n",
       "296  Charles Roven, Deborah Snyder                      Allan Heinberg   \n",
       "297  Alfonso Cuarón, Jorge Vergara       Alfonso Cuarón, Carlos Cuarón   \n",
       "298                 Steven Schardt                        Lynn Shelton   \n",
       "299     Mark Boal, Kathryn Bigelow                           Mark Boal   \n",
       "\n",
       "               actor_1             actor_2                actor_3  \\\n",
       "290  Michelle Williams         Will Patton            Will Oldham   \n",
       "291       Natalie Wood      Richard Beymer           Russ Tamblyn   \n",
       "292     Angela Bassett  Laurence Fishburne  Vanessa Bell Calloway   \n",
       "293     William Holden     Ernest Borgnine            Robert Ryan   \n",
       "294    Victor Sjöström       Ingrid Thulin         Bibi Andersson   \n",
       "295       Judy Garland        Frank Morgan             Ray Bolger   \n",
       "296          Gal Gadot          Chris Pine         Connie Nielsen   \n",
       "297      Maribel Verdú  Gael García Bernal             Diego Luna   \n",
       "298        Emily Blunt    Rosemarie DeWitt           Mark Duplass   \n",
       "299   Jessica Chastain        Jason Clarke          Joel Edgerton   \n",
       "\n",
       "                actor_4  \n",
       "290       John Robinson  \n",
       "291     George Chakiris  \n",
       "292       Jenifer Lewis  \n",
       "293      Edmond O'Brien  \n",
       "294  Gunnar Björnstrand  \n",
       "295           Bert Lahr  \n",
       "296        Robin Wright  \n",
       "297        Diana Bracho  \n",
       "298      Mike Birbiglia  \n",
       "299       Jennifer Ehle  "
      ]
     },
     "execution_count": 271,
     "metadata": {},
     "output_type": "execute_result"
    }
   ],
   "source": [
    "df.tail(10)"
   ]
  },
  {
   "cell_type": "code",
   "execution_count": 272,
   "metadata": {},
   "outputs": [
    {
     "data": {
      "text/plain": [
       "300"
      ]
     },
     "execution_count": 272,
     "metadata": {},
     "output_type": "execute_result"
    }
   ],
   "source": [
    "len(top_300)"
   ]
  }
 ],
 "metadata": {
  "kernelspec": {
   "display_name": "Python 3",
   "language": "python",
   "name": "python3"
  },
  "language_info": {
   "codemirror_mode": {
    "name": "ipython",
    "version": 3
   },
   "file_extension": ".py",
   "mimetype": "text/x-python",
   "name": "python",
   "nbconvert_exporter": "python",
   "pygments_lexer": "ipython3",
   "version": "3.8.3"
  }
 },
 "nbformat": 4,
 "nbformat_minor": 4
}
